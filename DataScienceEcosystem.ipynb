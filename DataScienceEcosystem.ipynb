{
 "cells": [
  {
   "cell_type": "markdown",
   "id": "11661e25",
   "metadata": {},
   "source": [
    "# Data Science Tools and Ecosystem"
   ]
  },
  {
   "cell_type": "markdown",
   "id": "f17dd4ac",
   "metadata": {},
   "source": [
    "## In this notebook, Data Science Tools and Ecosystem are summarized\n"
   ]
  },
  {
   "cell_type": "markdown",
   "id": "2db3a1db",
   "metadata": {},
   "source": [
    "## Data Science Languages\n",
    "\n",
    "- Python\n",
    "- R\n",
    "- Julia\n",
    "- SAS\n",
    "- SQL"
   ]
  },
  {
   "cell_type": "markdown",
   "id": "3fa74c12",
   "metadata": {},
   "source": [
    "## Data Science Libraries\n",
    "\n",
    "- NumPy\n",
    "- pandas\n",
    "- scikit-learn\n",
    "- TensorFlow\n",
    "- PyTorch\n",
    "- Matplotlib\n",
    "- Seaborn"
   ]
  },
  {
   "cell_type": "markdown",
   "id": "d7ec4179",
   "metadata": {},
   "source": [
    "## Data Science Tools\n",
    "\n",
    "| Tool           | Description                                 |\n",
    "|----------------|---------------------------------------------|\n",
    "| Jupyter Notebook | Interactive coding environment             |\n",
    "| Anaconda        | Distribution of Python and R packages       |\n",
    "| Apache Hadoop   | Distributed computing framework             |\n",
    "| Apache Spark    | Cluster computing system                     |\n",
    "| Tableau         | Data visualization and business intelligence|"
   ]
  },
  {
   "cell_type": "markdown",
   "id": "0e583dcb",
   "metadata": {},
   "source": [
    "# Arithmetic Expression Examples\n",
    "\n",
    "In this section, we will explore some examples of arithmetic expressions. Arithmetic expressions involve mathematical operations such as addition, subtraction, multiplication, and division. Let's see some examples to better understand how they work."
   ]
  },
  {
   "cell_type": "code",
   "execution_count": 2,
   "id": "730da662",
   "metadata": {},
   "outputs": [
    {
     "name": "stdout",
     "output_type": "stream",
     "text": [
      "The result of multiplying 5 and 3 is: 15\n",
      "The result of adding 5 and 3 is: 8\n"
     ]
    }
   ],
   "source": [
    "# Multiplication and addition\n",
    "a = 5\n",
    "b = 3\n",
    "result_multiply = a * b\n",
    "result_add = a + b\n",
    "\n",
    "print(f\"The result of multiplying {a} and {b} is: {result_multiply}\")\n",
    "print(f\"The result of adding {a} and {b} is: {result_add}\")"
   ]
  },
  {
   "cell_type": "code",
   "execution_count": 3,
   "id": "02045a00",
   "metadata": {},
   "outputs": [
    {
     "name": "stdout",
     "output_type": "stream",
     "text": [
      "150 minutes is equal to 2.5 hours.\n"
     ]
    }
   ],
   "source": [
    "# Conversion from minutes to hours\n",
    "minutes = 150\n",
    "hours = minutes / 60\n",
    "\n",
    "print(f\"{minutes} minutes is equal to {hours} hours.\")"
   ]
  },
  {
   "cell_type": "markdown",
   "id": "598317ac",
   "metadata": {},
   "source": [
    "## Objectives\n",
    "\n",
    "- Familiarize with data science languages and libraries\n",
    "- Understand arithmetic expressions and perform basic calculations\n",
    "- Explore data science tools and their applications\n",
    "- Apply mathematical operations and conversions in code\n"
   ]
  },
  {
   "cell_type": "markdown",
   "id": "abb513b6",
   "metadata": {},
   "source": [
    "## Author\n",
    "\n",
    "John Doe"
   ]
  },
  {
   "cell_type": "code",
   "execution_count": null,
   "id": "25a2e1cc",
   "metadata": {},
   "outputs": [],
   "source": []
  }
 ],
 "metadata": {
  "kernelspec": {
   "display_name": "Python 3 (ipykernel)",
   "language": "python",
   "name": "python3"
  },
  "language_info": {
   "codemirror_mode": {
    "name": "ipython",
    "version": 3
   },
   "file_extension": ".py",
   "mimetype": "text/x-python",
   "name": "python",
   "nbconvert_exporter": "python",
   "pygments_lexer": "ipython3",
   "version": "3.10.9"
  }
 },
 "nbformat": 4,
 "nbformat_minor": 5
}
